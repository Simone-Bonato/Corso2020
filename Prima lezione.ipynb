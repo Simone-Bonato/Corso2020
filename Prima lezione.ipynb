{
 "cells": [
  {
   "cell_type": "markdown",
   "metadata": {
    "colab_type": "text",
    "id": "QXf5Ui0ufTiW"
   },
   "source": [
    "# Introduzione a Python"
   ]
  },
  {
   "cell_type": "code",
   "execution_count": null,
   "metadata": {
    "colab": {},
    "colab_type": "code",
    "id": "UU2648kZfTic"
   },
   "outputs": [],
   "source": [
    "print('Hello world')"
   ]
  },
  {
   "cell_type": "markdown",
   "metadata": {
    "colab_type": "text",
    "id": "REgra9wOfTkV"
   },
   "source": [
    "## Variabili e tipi di dati"
   ]
  },
  {
   "cell_type": "markdown",
   "metadata": {
    "colab_type": "text",
    "id": "2yCkT2MSfTke"
   },
   "source": [
    "Per definire una variabile, in Python, basta dare un nome alla variabile e assegnarle un valore."
   ]
  },
  {
   "cell_type": "code",
   "execution_count": null,
   "metadata": {
    "colab": {},
    "colab_type": "code",
    "id": "EUDLLBhJfTki"
   },
   "outputs": [],
   "source": [
    "name = 'Simone'"
   ]
  },
  {
   "cell_type": "code",
   "execution_count": null,
   "metadata": {
    "colab": {},
    "colab_type": "code",
    "id": "1RlVu-wQfTkv"
   },
   "outputs": [],
   "source": [
    "name"
   ]
  },
  {
   "cell_type": "code",
   "execution_count": null,
   "metadata": {
    "colab": {},
    "colab_type": "code",
    "id": "lHYiUm9dfTk3"
   },
   "outputs": [],
   "source": [
    "a = 1"
   ]
  },
  {
   "cell_type": "code",
   "execution_count": null,
   "metadata": {
    "colab": {},
    "colab_type": "code",
    "id": "iOERTIlYfTk-"
   },
   "outputs": [],
   "source": [
    "a"
   ]
  },
  {
   "cell_type": "code",
   "execution_count": null,
   "metadata": {
    "colab": {},
    "colab_type": "code",
    "id": "47duMi6TfTlG"
   },
   "outputs": [],
   "source": [
    "b = [1,2,'a','c']\n",
    "b"
   ]
  },
  {
   "cell_type": "markdown",
   "metadata": {
    "colab_type": "text",
    "id": "217p8VwwfTlO"
   },
   "source": [
    "È possibile fare assegnazioni multiple:"
   ]
  },
  {
   "cell_type": "code",
   "execution_count": null,
   "metadata": {
    "colab": {},
    "colab_type": "code",
    "id": "bfG4XoaAfTlR"
   },
   "outputs": [],
   "source": [
    " a, b, c = 'stringa', 4 , [4,'e', 6]\n",
    "#print(c) \n",
    "print(a,b,c)"
   ]
  },
  {
   "cell_type": "markdown",
   "metadata": {
    "colab_type": "text",
    "id": "fgnwx2NEfTlb"
   },
   "source": [
    "È possibile assegnare lo stesso valore a più variabili."
   ]
  },
  {
   "cell_type": "code",
   "execution_count": null,
   "metadata": {
    "colab": {},
    "colab_type": "code",
    "id": "30cfEeTAfTlw"
   },
   "outputs": [],
   "source": [
    "a = b = c = 5\n",
    "print(a,b,c)"
   ]
  },
  {
   "cell_type": "markdown",
   "metadata": {
    "colab_type": "text",
    "id": "8Hwl2itAfTmH"
   },
   "source": [
    "Possiamo controllare di che _tipo_ sono le variabili che abbiamo dichiarato. Un tipo è un insieme sui cui elementi sono definite alcune operazioni, diverse da un tipo all'altro."
   ]
  },
  {
   "cell_type": "code",
   "execution_count": null,
   "metadata": {
    "colab": {},
    "colab_type": "code",
    "id": "YLihxtRBfTmL"
   },
   "outputs": [],
   "source": [
    "type(name)"
   ]
  },
  {
   "cell_type": "code",
   "execution_count": null,
   "metadata": {
    "colab": {},
    "colab_type": "code",
    "id": "fU845wmUfTmS"
   },
   "outputs": [],
   "source": [
    "type(a)"
   ]
  },
  {
   "cell_type": "code",
   "execution_count": null,
   "metadata": {
    "colab": {},
    "colab_type": "code",
    "id": "mIoZyFVbfTmd",
    "scrolled": false
   },
   "outputs": [],
   "source": [
    "type(b)"
   ]
  },
  {
   "cell_type": "markdown",
   "metadata": {
    "colab_type": "text",
    "id": "9j6yNg3mfTmo"
   },
   "source": [
    "### Tipi numerici"
   ]
  },
  {
   "cell_type": "markdown",
   "metadata": {
    "colab_type": "text",
    "id": "lbnznDKWfTms"
   },
   "source": [
    "I principali tipi numerici, in Python, sono gli interi (**int**) e i numeri reali (**float**). Le operazioni che seguono si possono eseguire sia tra numeri di tipo **int** che di tipo **float** e sono ordinate in ordine crescente di priorità."
   ]
  },
  {
   "cell_type": "code",
   "execution_count": null,
   "metadata": {
    "colab": {},
    "colab_type": "code",
    "id": "gnJ3ajbgfTmw"
   },
   "outputs": [],
   "source": [
    "a = 2  \n",
    "#a = 7.0\n",
    "b = 3 \n",
    "#b = 3.0 "
   ]
  },
  {
   "cell_type": "code",
   "execution_count": null,
   "metadata": {
    "colab": {},
    "colab_type": "code",
    "id": "MvzE18L2fTm2"
   },
   "outputs": [],
   "source": [
    "print(type(a))\n",
    "print(type(b))"
   ]
  },
  {
   "cell_type": "code",
   "execution_count": null,
   "metadata": {
    "colab": {},
    "colab_type": "code",
    "id": "foGXSjetfTnC"
   },
   "outputs": [],
   "source": [
    "sum = a+b\n",
    "diff = a-b\n",
    "div = a/b\n",
    "floor = a//b #restituisce il più grande intero <= a/b\n",
    "amodb = a%b  \n",
    "molt =a*b\n",
    "exp = a**b\n",
    " \n",
    "print('a+b = ',sum)\n",
    "print('a-b = ',diff)\n",
    "print('a/b = ',div)\n",
    "print('a//b = ',floor)\n",
    "print('a%b = ',amodb)\n",
    "print('a*b 0 ',molt)\n",
    "print('a**b = ',exp)"
   ]
  },
  {
   "cell_type": "markdown",
   "metadata": {
    "colab_type": "text",
    "id": "tEdBu4xmfTnJ"
   },
   "source": [
    "Prova a valutare le seguenti espressioni a mano, prima di eseguirle."
   ]
  },
  {
   "cell_type": "code",
   "execution_count": null,
   "metadata": {
    "colab": {},
    "colab_type": "code",
    "id": "4KiBIwhKfTnO"
   },
   "outputs": [],
   "source": [
    "2+3*2**2-7%2"
   ]
  },
  {
   "cell_type": "code",
   "execution_count": null,
   "metadata": {
    "colab": {},
    "colab_type": "code",
    "id": "tOd8XTvhfTnz"
   },
   "outputs": [],
   "source": [
    "((2+3)*2)**2-7%2"
   ]
  },
  {
   "cell_type": "code",
   "execution_count": null,
   "metadata": {
    "colab": {},
    "colab_type": "code",
    "id": "eqXF2EG9fToA"
   },
   "outputs": [],
   "source": [
    "(2+3*2**2-7)%2"
   ]
  },
  {
   "cell_type": "markdown",
   "metadata": {
    "colab_type": "text",
    "id": "SxNfqLnUfToH"
   },
   "source": [
    "Tra i numeri di tipo **float** esistono altre operazioni, per esempio:"
   ]
  },
  {
   "cell_type": "code",
   "execution_count": null,
   "metadata": {
    "colab": {},
    "colab_type": "code",
    "id": "FiFARPohfToK"
   },
   "outputs": [],
   "source": [
    "import math \n",
    "a = 5.432675894321453189723497168\n",
    "#print(a)\n",
    "#print(math.ceil(a))\n",
    "#print(math.floor(a))\n",
    "#print(round(a,2))"
   ]
  },
  {
   "cell_type": "markdown",
   "metadata": {
    "colab_type": "text",
    "id": "GAok4YGqfToU"
   },
   "source": [
    "### Stringhe "
   ]
  },
  {
   "cell_type": "code",
   "execution_count": null,
   "metadata": {
    "colab": {},
    "colab_type": "code",
    "id": "K3hKGBlEfToW"
   },
   "outputs": [],
   "source": [
    "str1 = 'Python è facile da usare,'\n",
    "str2 = '''servono solo due cose:\n",
    "un computer e fantasia\n",
    "        '''\n",
    "\n",
    "print(\"%s %s %s\" % ('Devo dire che', str1 ,str2))\n",
    "#print(str1+' '+str2)"
   ]
  },
  {
   "cell_type": "code",
   "execution_count": null,
   "metadata": {
    "colab": {},
    "colab_type": "code",
    "id": "_8AcAFl0fTol"
   },
   "outputs": [],
   "source": [
    "str1 = 'andare a capo '\n",
    "print('Non bisogna ', end='')\n",
    "print(str1, end='')\n",
    "print('troppo spesso.')"
   ]
  },
  {
   "cell_type": "code",
   "execution_count": null,
   "metadata": {
    "colab": {},
    "colab_type": "code",
    "id": "cfIg5GmGfTow"
   },
   "outputs": [],
   "source": [
    "str1 = 'Se vuoi,'\n",
    "str2 = 'puoi anche lasciare una riga'\n",
    "str3 ='vuota'\n",
    "print(str1+''+str2, '\\n')\n",
    "print(str3)"
   ]
  },
  {
   "cell_type": "code",
   "execution_count": null,
   "metadata": {
    "colab": {},
    "colab_type": "code",
    "id": "c4FvyfbDfTo3"
   },
   "outputs": [],
   "source": [
    "n = 2 # cambia il valore di n\n",
    "print('Se vuoi, puoi lasciare', n, 'righe vuote', '\\n'*n)\n",
    "print('e poi scrivere ancora')"
   ]
  },
  {
   "cell_type": "markdown",
   "metadata": {
    "colab_type": "text",
    "id": "D2zUb1ngfTo9"
   },
   "source": [
    "### Liste"
   ]
  },
  {
   "cell_type": "markdown",
   "metadata": {
    "colab_type": "text",
    "id": "_mNqO-s5fTpB"
   },
   "source": [
    "Una lista si può costruire in molti modi:"
   ]
  },
  {
   "cell_type": "code",
   "execution_count": null,
   "metadata": {
    "colab": {},
    "colab_type": "code",
    "id": "Y7XUlzsifTpG"
   },
   "outputs": [],
   "source": [
    "a = [] # una lista vuota\n",
    "a"
   ]
  },
  {
   "cell_type": "code",
   "execution_count": null,
   "metadata": {
    "colab": {},
    "colab_type": "code",
    "id": "f_U_rq7NfTpS"
   },
   "outputs": [],
   "source": [
    "a = [1,4,5]\n",
    "a"
   ]
  },
  {
   "cell_type": "code",
   "execution_count": null,
   "metadata": {
    "colab": {},
    "colab_type": "code",
    "id": "1oEMXN3-fTpk"
   },
   "outputs": [],
   "source": [
    "a  = list('123')\n",
    "a"
   ]
  },
  {
   "cell_type": "code",
   "execution_count": null,
   "metadata": {
    "colab": {},
    "colab_type": "code",
    "id": "VNDFSCMHfTp_"
   },
   "outputs": [],
   "source": [
    "b = 15\n",
    "a = [1,2,'vk',[7,8,9],b]\n",
    "a"
   ]
  },
  {
   "cell_type": "markdown",
   "metadata": {
    "colab_type": "text",
    "id": "rCCh38a4fTp8"
   },
   "source": [
    "Ci sono molte operazioni sulle liste:"
   ]
  },
  {
   "cell_type": "code",
   "execution_count": null,
   "metadata": {
    "colab": {},
    "colab_type": "code",
    "id": "0hFtoArrfTqN"
   },
   "outputs": [],
   "source": [
    "#a[i] restituisce l'i-esimo elemento della lista\n",
    "#a[0] #restituisce il primo elemento della lista\n",
    "#a[3]\n",
    "#a[-1]\n",
    "a[-2]"
   ]
  },
  {
   "cell_type": "code",
   "execution_count": null,
   "metadata": {
    "colab": {},
    "colab_type": "code",
    "id": "_XRdVEu6fTqg"
   },
   "outputs": [],
   "source": [
    "#a[i:j] restituisce gli elementi dalla posizione i alla j-1\n",
    "a[1:4] #restituisce gli elementi dalla posizione 1 alla 3"
   ]
  },
  {
   "cell_type": "code",
   "execution_count": null,
   "metadata": {
    "colab": {},
    "colab_type": "code",
    "id": "9vz1Gq4cfTqo"
   },
   "outputs": [],
   "source": [
    "#a[i:j:k] restituisce gli elementi da i a j-1 con passo k\n",
    "a[0:5:2]"
   ]
  },
  {
   "cell_type": "code",
   "execution_count": null,
   "metadata": {
    "colab": {},
    "colab_type": "code",
    "id": "DM8-zxvFfTq1"
   },
   "outputs": [],
   "source": [
    "b = a #creo una copia della lista a \n",
    "del b[1]\n",
    "b"
   ]
  },
  {
   "cell_type": "code",
   "execution_count": null,
   "metadata": {
    "colab": {},
    "colab_type": "code",
    "id": "O_j4j56xfTq7"
   },
   "outputs": [],
   "source": [
    "b = a \n",
    "del b[0:5:2]\n",
    "b"
   ]
  },
  {
   "cell_type": "code",
   "execution_count": null,
   "metadata": {
    "colab": {},
    "colab_type": "code",
    "id": "Wary47lbfTrE"
   },
   "outputs": [],
   "source": [
    "a.append('nuovo')\n",
    "a"
   ]
  },
  {
   "cell_type": "code",
   "execution_count": null,
   "metadata": {
    "colab": {},
    "colab_type": "code",
    "id": "Ft1mxvFMfTrP"
   },
   "outputs": [],
   "source": [
    "a = [2,3,4]\n",
    "b = ['a','b','c']\n",
    "c = a+b\n",
    "c"
   ]
  },
  {
   "cell_type": "code",
   "execution_count": null,
   "metadata": {
    "colab": {},
    "colab_type": "code",
    "id": "CGWlw52tfTrW"
   },
   "outputs": [],
   "source": [
    "d = a # creo una copia di a\n",
    "d.extend(b)\n",
    "d"
   ]
  },
  {
   "cell_type": "code",
   "execution_count": null,
   "metadata": {
    "colab": {},
    "colab_type": "code",
    "id": "JaXiEqMZfTrf"
   },
   "outputs": [],
   "source": [
    "# Un altro modo per concatenare liste\n",
    "a += b #qui c'è una sorpresa!\n",
    "a"
   ]
  },
  {
   "cell_type": "code",
   "execution_count": null,
   "metadata": {
    "colab": {},
    "colab_type": "code",
    "id": "BydHF0qrfTrw"
   },
   "outputs": [],
   "source": [
    "a = [1,2,3]\n",
    "c = a.copy() #dobbiamo usare copy, se vogliamo creare DAVVERO una copia di a\n",
    "c.extend(b)\n",
    "print(c)\n",
    "print(a)"
   ]
  },
  {
   "cell_type": "code",
   "execution_count": null,
   "metadata": {
    "colab": {},
    "colab_type": "code",
    "id": "Jkd_QHbtfTsQ"
   },
   "outputs": [],
   "source": [
    "a = ['Un, due, tre!']\n",
    "a "
   ]
  },
  {
   "cell_type": "code",
   "execution_count": null,
   "metadata": {
    "colab": {},
    "colab_type": "code",
    "id": "bUi_mxIAfTsX"
   },
   "outputs": [],
   "source": [
    "a *= 3\n",
    "a"
   ]
  },
  {
   "cell_type": "code",
   "execution_count": null,
   "metadata": {
    "colab": {},
    "colab_type": "code",
    "id": "lKQGhzVmfTse"
   },
   "outputs": [],
   "source": [
    "'''\n",
    "Cella bonus: bisogna stare molto attenti a maneggiare le liste perchè c'è un problema coi i puntatori, come abbiamo visto nel\n",
    "caso in cui abbiamo cercato di copiare una lista. Vediamo un altro problema.\n",
    "'''\n",
    "lists = [[]]*3\n",
    "lists"
   ]
  },
  {
   "cell_type": "code",
   "execution_count": null,
   "metadata": {
    "colab": {},
    "colab_type": "code",
    "id": "RypH1IwZfTsl"
   },
   "outputs": [],
   "source": [
    "'''\n",
    "Cella bonus\n",
    "'''\n",
    "lists[0] = 6\n",
    "lists # fino a qui nessuna sorpresa"
   ]
  },
  {
   "cell_type": "code",
   "execution_count": null,
   "metadata": {
    "colab": {},
    "colab_type": "code",
    "id": "EAb5dIV1fTsy"
   },
   "outputs": [],
   "source": [
    "'''\n",
    "Cella bonus:\n",
    "'''\n",
    "lists = [[]]*3\n",
    "lists[0].append(6)\n",
    "lists"
   ]
  },
  {
   "cell_type": "code",
   "execution_count": null,
   "metadata": {
    "colab": {},
    "colab_type": "code",
    "id": "TlVmVEcVfTs7"
   },
   "outputs": [],
   "source": [
    "a.insert(2,'Un altro') # a.insert(i,x) inserisce x nella posizione i\n",
    "a"
   ]
  },
  {
   "cell_type": "code",
   "execution_count": null,
   "metadata": {
    "colab": {},
    "colab_type": "code",
    "id": "dnEaaWcvfTtC"
   },
   "outputs": [],
   "source": [
    "a = ['c',3,1,'a',9]\n",
    "c = a.pop(3) # a.pop(i) restituisce l'elemento in posizione i e lo elimina dalla lista\n",
    "#c = a.pop()\n",
    "print(a,'c =',c)"
   ]
  },
  {
   "cell_type": "code",
   "execution_count": null,
   "metadata": {
    "colab": {},
    "colab_type": "code",
    "id": "aKfDioC3fTtG",
    "scrolled": true
   },
   "outputs": [],
   "source": [
    "a = [2,4,'a',2,'b',5]\n",
    "a.remove(2) #rimuove il primo elemento uguale al parametro\n",
    "a"
   ]
  },
  {
   "cell_type": "code",
   "execution_count": null,
   "metadata": {
    "colab": {},
    "colab_type": "code",
    "id": "Aaog5hesfTtU"
   },
   "outputs": [],
   "source": [
    "a.reverse()\n",
    "a"
   ]
  },
  {
   "cell_type": "code",
   "execution_count": null,
   "metadata": {
    "colab": {},
    "colab_type": "code",
    "id": "1emxAZjpfTtZ"
   },
   "outputs": [],
   "source": [
    "'''\n",
    "Cella bonus.\n",
    "Nella prossima lezione scriverete dei programmi per implementare le operazioni:\n",
    "- len(s)  restituisce la lunghezza della lista;\n",
    "- min(s)  restituisce il più piccolo valore della lista, se gli elementi della lista sono totalmente ordinabili, oppure una lista\n",
    "          parzialmente ordinata;\n",
    "- max(s)  il più grande elemento di s, con gli stessi accorgimenti detti sopra;\n",
    "- s.index(x[, i[, j]])  l'indice in cui compare per la prima volta x in s, all'indice i o dopo e prima dell'indice j\n",
    "- s.count(x) quante volte x compare in s\n",
    "\n",
    "Scrivere un programma che restituisca tutti gli indici in cui si trova un elemento x in una lista, non solo il primo.\n",
    "'''"
   ]
  },
  {
   "cell_type": "code",
   "execution_count": null,
   "metadata": {
    "colab": {},
    "colab_type": "code",
    "id": "YkYPZgFPfTti"
   },
   "outputs": [],
   "source": [
    "# x in a restituisce True se x sta nella lista, False altrimenti\n",
    "a = [3,2,4,6]\n",
    "2 in a\n",
    "# x not in s\n",
    "#2 not in a"
   ]
  },
  {
   "cell_type": "markdown",
   "metadata": {
    "colab_type": "text",
    "id": "N6w7ci9xfTtp"
   },
   "source": [
    "### Tuple "
   ]
  },
  {
   "cell_type": "markdown",
   "metadata": {
    "colab_type": "text",
    "id": "RCySxbH1fTtt"
   },
   "source": [
    "Le tuple sono contenitori simili alle liste ma sono immutabili, cioè non si possono modificare."
   ]
  },
  {
   "cell_type": "code",
   "execution_count": null,
   "metadata": {
    "colab": {},
    "colab_type": "code",
    "id": "ZXV0iQvTfTt1"
   },
   "outputs": [],
   "source": [
    "tupl1 = (4,2,3,5,1)\n",
    "tupl1"
   ]
  },
  {
   "cell_type": "code",
   "execution_count": null,
   "metadata": {
    "colab": {},
    "colab_type": "code",
    "id": "hvhlUMnqfTt5"
   },
   "outputs": [],
   "source": [
    "tupl2 = (4,7,7)\n",
    "tupl2"
   ]
  },
  {
   "cell_type": "code",
   "execution_count": null,
   "metadata": {
    "colab": {},
    "colab_type": "code",
    "id": "525etLY5fTuB"
   },
   "outputs": [],
   "source": [
    "# si può anche costruire un lista e trasformarla\n",
    "a = [1,2,3]\n",
    "a = tuple(a)\n",
    "a"
   ]
  },
  {
   "cell_type": "code",
   "execution_count": null,
   "metadata": {
    "colab": {},
    "colab_type": "code",
    "id": "bADG71CSfTuI"
   },
   "outputs": [],
   "source": [
    "#non si possono modificare le tuple\n",
    "tupl1.append(4)\n",
    "tupl1\n",
    "# tupl1.reverse()\n",
    "# tupl1.pop()"
   ]
  },
  {
   "cell_type": "code",
   "execution_count": null,
   "metadata": {
    "colab": {},
    "colab_type": "code",
    "id": "BnnNgFo8fTuU"
   },
   "outputs": [],
   "source": [
    "#Però si possono ridefinire con lo stesso nome\n",
    "tupl1 = tupl1+tupl2\n",
    "tupl1"
   ]
  },
  {
   "cell_type": "markdown",
   "metadata": {
    "colab_type": "text",
    "id": "hVd1r_7_fTuZ"
   },
   "source": [
    "### Range "
   ]
  },
  {
   "cell_type": "markdown",
   "metadata": {
    "colab_type": "text",
    "id": "n3yi1XJVfTuc"
   },
   "source": [
    "Range è un altro contenitore immutabile, simile alla tupla."
   ]
  },
  {
   "cell_type": "code",
   "execution_count": null,
   "metadata": {
    "colab": {},
    "colab_type": "code",
    "id": "zaudIYF3fTur"
   },
   "outputs": [],
   "source": [
    "# Non si può vedere direttamente com'è fatto un oggetto di tipo range\n",
    "range(1,5)"
   ]
  },
  {
   "cell_type": "code",
   "execution_count": null,
   "metadata": {
    "colab": {},
    "colab_type": "code",
    "id": "sAjLsu30fTuz"
   },
   "outputs": [],
   "source": [
    "# Bisogna trasformarlo in una tupla o in una lista\n",
    "tuple(range(1,5))"
   ]
  },
  {
   "cell_type": "code",
   "execution_count": null,
   "metadata": {
    "colab": {},
    "colab_type": "code",
    "id": "4uXwuH7LfTu7"
   },
   "outputs": [],
   "source": [
    "# La sintassi generale è range(start,stop [, step])\n",
    "tuple(range(1,10,2))"
   ]
  },
  {
   "cell_type": "code",
   "execution_count": null,
   "metadata": {
    "colab": {},
    "colab_type": "code",
    "id": "HygsKVBFfTvo"
   },
   "outputs": [],
   "source": [
    "tuple(range(5))"
   ]
  },
  {
   "cell_type": "code",
   "execution_count": null,
   "metadata": {
    "colab": {},
    "colab_type": "code",
    "id": "_8mDLXcifTvv"
   },
   "outputs": [],
   "source": [
    "r = range(0,20,2)\n",
    "3 in r"
   ]
  },
  {
   "cell_type": "code",
   "execution_count": null,
   "metadata": {
    "colab": {},
    "colab_type": "code",
    "id": "5lb_TC15fTv6"
   },
   "outputs": [],
   "source": [
    "# Il passo può anche essere negativo\n",
    "#r = range(-10,-100,-20)\n",
    "r = range(100,10,-10)\n",
    "list(r)"
   ]
  },
  {
   "cell_type": "code",
   "execution_count": null,
   "metadata": {
    "colab": {},
    "colab_type": "code",
    "id": "huxSLb9lfTwB"
   },
   "outputs": [],
   "source": [
    "r.index(20)"
   ]
  },
  {
   "cell_type": "code",
   "execution_count": null,
   "metadata": {
    "colab": {},
    "colab_type": "code",
    "id": "_NrCWmGsfTwG"
   },
   "outputs": [],
   "source": [
    "len(r)"
   ]
  },
  {
   "cell_type": "code",
   "execution_count": null,
   "metadata": {
    "colab": {},
    "colab_type": "code",
    "id": "gLfQLIpZfTwM"
   },
   "outputs": [],
   "source": [
    "max(r)"
   ]
  },
  {
   "cell_type": "code",
   "execution_count": null,
   "metadata": {
    "colab": {},
    "colab_type": "code",
    "id": "l_1CGwlpfTwR"
   },
   "outputs": [],
   "source": [
    "r[5]"
   ]
  },
  {
   "cell_type": "code",
   "execution_count": null,
   "metadata": {
    "colab": {},
    "colab_type": "code",
    "id": "YRrcmbJnfTwa"
   },
   "outputs": [],
   "source": [
    "r[:5]"
   ]
  },
  {
   "cell_type": "code",
   "execution_count": null,
   "metadata": {
    "colab": {},
    "colab_type": "code",
    "id": "NXXYQ05_fTwr"
   },
   "outputs": [],
   "source": [
    "tuple(r[:5])"
   ]
  },
  {
   "cell_type": "markdown",
   "metadata": {
    "colab_type": "text",
    "id": "aXzirD7AfTwy"
   },
   "source": [
    "### Ancora stringhe "
   ]
  },
  {
   "cell_type": "markdown",
   "metadata": {
    "colab_type": "text",
    "id": "qLhrtValfTw0"
   },
   "source": [
    "Le stringhe sono una successione di caratteri Unicode. Si possono scrivere in vari modi:"
   ]
  },
  {
   "cell_type": "code",
   "execution_count": null,
   "metadata": {
    "colab": {},
    "colab_type": "code",
    "id": "a85R_azBfTw2"
   },
   "outputs": [],
   "source": [
    "# con un apice\n",
    "a = 'una stringa'\n",
    "print(a)\n",
    "print(type(a))"
   ]
  },
  {
   "cell_type": "code",
   "execution_count": null,
   "metadata": {
    "colab": {},
    "colab_type": "code",
    "id": "2LsBJc0mfTw8"
   },
   "outputs": [],
   "source": [
    "# con due apici\n",
    "b = \"una stringa\"\n",
    "print(b)\n",
    "print(type(b))"
   ]
  },
  {
   "cell_type": "code",
   "execution_count": null,
   "metadata": {
    "colab": {},
    "colab_type": "code",
    "id": "1pR8zhf6fTxC"
   },
   "outputs": [],
   "source": [
    "# Si possono fare delle citazioni, all'interno di una stringa:\n",
    "# con due apici\n",
    "a = 'Una citazione di Orazio: \"Dulce et decorum est pro patria mori\"'\n",
    "print(a)\n",
    "print(type(a))"
   ]
  },
  {
   "cell_type": "code",
   "execution_count": null,
   "metadata": {
    "colab": {},
    "colab_type": "code",
    "id": "nxvShb2WfTxM"
   },
   "outputs": [],
   "source": [
    "b = 'Una citazione di Orazio: \\'Dulce et decorum est pro patria mori\\''\n",
    "print(b)"
   ]
  },
  {
   "cell_type": "code",
   "execution_count": null,
   "metadata": {
    "colab": {},
    "colab_type": "code",
    "id": "fSkfBrN5fTxa"
   },
   "outputs": [],
   "source": [
    "c = \"Una citazione di Orazio: \\\"Dulce et decorum est pro patria mori\\\"\"\n",
    "print(c)"
   ]
  },
  {
   "cell_type": "code",
   "execution_count": null,
   "metadata": {
    "colab": {},
    "colab_type": "code",
    "id": "S60aLIcMfTxn"
   },
   "outputs": [],
   "source": [
    "# o con un apice solo\n",
    "a = \"Una citazione di Orazio: 'Dulce et decorum est pro patria mori'\"\n",
    "print(a)\n",
    "print(type(a))"
   ]
  },
  {
   "cell_type": "code",
   "execution_count": null,
   "metadata": {
    "colab": {},
    "colab_type": "code",
    "id": "ZLwaDvoGfTxr"
   },
   "outputs": [],
   "source": [
    "a = \"Una citazione dall'Eneide: 'Arma virumque cano' \"\n",
    "print(a)"
   ]
  },
  {
   "cell_type": "code",
   "execution_count": null,
   "metadata": {
    "colab": {},
    "colab_type": "code",
    "id": "jmFM9HhafTxx"
   },
   "outputs": [],
   "source": [
    "a = 'Una citazione dall\\'Eneide: \"Arma virumque cano\"'\n",
    "print(a)"
   ]
  },
  {
   "cell_type": "code",
   "execution_count": null,
   "metadata": {
    "colab": {},
    "colab_type": "code",
    "id": "U_LbytOyfTx2"
   },
   "outputs": [],
   "source": [
    "a = 'Una citazione dall\\'Eneide: \\'Arma virumque cano\\' '\n",
    "print(a)"
   ]
  },
  {
   "cell_type": "code",
   "execution_count": null,
   "metadata": {
    "colab": {},
    "colab_type": "code",
    "id": "LFGR1rHifTx7"
   },
   "outputs": [],
   "source": [
    "# Stringhe con tre apici\n",
    "a = '''Una stringa'''\n",
    "print(a)"
   ]
  },
  {
   "cell_type": "code",
   "execution_count": null,
   "metadata": {
    "colab": {},
    "colab_type": "code",
    "id": "AMC6sgndfTx_"
   },
   "outputs": [],
   "source": [
    "# I tre apici supportano la scrittura su più righe\n",
    "a = '''M'illumino\n",
    "d'immenso'''\n",
    "print(a)"
   ]
  },
  {
   "cell_type": "code",
   "execution_count": null,
   "metadata": {
    "colab": {},
    "colab_type": "code",
    "id": "zctdXmLOfTyT"
   },
   "outputs": [],
   "source": [
    "a = 'Una stringa lunga '\n",
    "b = 'lunga '\n",
    "a = a+b*3\n",
    "a"
   ]
  },
  {
   "cell_type": "code",
   "execution_count": null,
   "metadata": {
    "colab": {},
    "colab_type": "code",
    "id": "nhPMsopcfTyu"
   },
   "outputs": [],
   "source": [
    "a[1]"
   ]
  },
  {
   "cell_type": "code",
   "execution_count": null,
   "metadata": {
    "colab": {},
    "colab_type": "code",
    "id": "H6IR2Px_fTy8"
   },
   "outputs": [],
   "source": [
    "a[:5]"
   ]
  },
  {
   "cell_type": "code",
   "execution_count": null,
   "metadata": {
    "colab": {},
    "colab_type": "code",
    "id": "AKIxm1VGfTzF"
   },
   "outputs": [],
   "source": [
    "a[2:6]"
   ]
  },
  {
   "cell_type": "code",
   "execution_count": null,
   "metadata": {
    "colab": {},
    "colab_type": "code",
    "id": "cRdiw_1HfTzL"
   },
   "outputs": [],
   "source": [
    "# Ci sono moltissime cose da dire sulle stringhe ma mi fermerei qui"
   ]
  },
  {
   "cell_type": "markdown",
   "metadata": {
    "colab_type": "text",
    "id": "v04jntz2fTzP"
   },
   "source": [
    "### Dizionari"
   ]
  },
  {
   "cell_type": "code",
   "execution_count": null,
   "metadata": {
    "colab": {},
    "colab_type": "code",
    "id": "hNnDP-EHfTzR"
   },
   "outputs": [],
   "source": [
    "# dict = {chiave : valore}\n",
    "Super = {'Peter Parker' : 'Uomo Ragno',\n",
    "        'Bruce Wayne': 'Batman',\n",
    "        'Bruce Banner' : 'Hulk',\n",
    "        'Kal-El' : 'Clark Kent'}\n",
    "Super"
   ]
  },
  {
   "cell_type": "code",
   "execution_count": null,
   "metadata": {
    "colab": {},
    "colab_type": "code",
    "id": "X2jleEOQfTzj"
   },
   "outputs": [],
   "source": [
    "Auto = {'Modello': 'slk200',\n",
    "       'N° cilindri': 4,\n",
    "       'Potenza massima in kW': 135,\n",
    "       'N° rapporti del cambio':6,\n",
    "       'Consumo km/l': 15.6}\n",
    "Auto"
   ]
  },
  {
   "cell_type": "code",
   "execution_count": null,
   "metadata": {
    "colab": {},
    "colab_type": "code",
    "id": "OexQDWnEfTzo"
   },
   "outputs": [],
   "source": [
    "a = dict(one=1, two=2, three=3)\n",
    "b = {'one': 1, 'two': 2, 'three': 3}\n",
    "c = dict(zip(['one', 'two', 'three'], [1, 2, 3]))\n",
    "d = dict([('two', 2), ('one', 1), ('three', 3)])\n",
    "e = dict({'three': 3, 'one': 1, 'two':2})\n",
    "e"
   ]
  },
  {
   "cell_type": "code",
   "execution_count": null,
   "metadata": {
    "colab": {},
    "colab_type": "code",
    "id": "jp9HV3YrfTzt"
   },
   "outputs": [],
   "source": [
    "#I dizionari non sono ordinati e non si possono concatenare\n",
    "Super[0]\n",
    "# Super + Auto"
   ]
  },
  {
   "cell_type": "code",
   "execution_count": null,
   "metadata": {
    "colab": {},
    "colab_type": "code",
    "id": "s5PWIs4ofTz5"
   },
   "outputs": [],
   "source": [
    "Super['Peter Parker']"
   ]
  },
  {
   "cell_type": "code",
   "execution_count": null,
   "metadata": {
    "colab": {},
    "colab_type": "code",
    "id": "lHE13CD4fT0C"
   },
   "outputs": [],
   "source": [
    "Super.keys()"
   ]
  },
  {
   "cell_type": "code",
   "execution_count": null,
   "metadata": {
    "colab": {},
    "colab_type": "code",
    "id": "7a7gxYcwfT0J"
   },
   "outputs": [],
   "source": [
    "Super.values()"
   ]
  },
  {
   "cell_type": "code",
   "execution_count": null,
   "metadata": {
    "colab": {},
    "colab_type": "code",
    "id": "SccLdn_XfT0O"
   },
   "outputs": [],
   "source": [
    "len(Super)"
   ]
  },
  {
   "cell_type": "code",
   "execution_count": null,
   "metadata": {
    "colab": {},
    "colab_type": "code",
    "id": "PzK6wA0bfT0V"
   },
   "outputs": [],
   "source": [
    "del Super['Kal-El'] #elimina la coppia chiave-valore dal dizionario\n",
    "Super"
   ]
  },
  {
   "cell_type": "code",
   "execution_count": null,
   "metadata": {
    "colab": {},
    "colab_type": "code",
    "id": "AfALQsgEfT0f"
   },
   "outputs": [],
   "source": [
    "Super['Kal-El'] = 'Clark Kent'\n",
    "Super"
   ]
  },
  {
   "cell_type": "code",
   "execution_count": null,
   "metadata": {
    "colab": {},
    "colab_type": "code",
    "id": "BiDHXA7CfT0o"
   },
   "outputs": [],
   "source": [
    "Super['Peter Parker'] = 'Spiderman' #possiamo modificare un dizionario\n",
    "Super"
   ]
  },
  {
   "cell_type": "code",
   "execution_count": null,
   "metadata": {
    "colab": {},
    "colab_type": "code",
    "id": "_0QEXZqDfT0v"
   },
   "outputs": [],
   "source": [
    "Super+Auto\n",
    "# Un'altro programma che può essere implementato"
   ]
  },
  {
   "cell_type": "code",
   "execution_count": null,
   "metadata": {
    "colab": {},
    "colab_type": "code",
    "id": "_C7wlAHofT07"
   },
   "outputs": [],
   "source": []
  },
  {
   "cell_type": "code",
   "execution_count": null,
   "metadata": {
    "colab": {},
    "colab_type": "code",
    "id": "bJ0LNJOnfT1B"
   },
   "outputs": [],
   "source": []
  },
  {
   "cell_type": "code",
   "execution_count": null,
   "metadata": {
    "colab": {},
    "colab_type": "code",
    "id": "igC_iFF9fT1F"
   },
   "outputs": [],
   "source": []
  }
 ],
 "metadata": {
  "colab": {
   "collapsed_sections": [
    "9j6yNg3mfTmo",
    "GAok4YGqfToU",
    "N6w7ci9xfTtp",
    "aXzirD7AfTwy",
    "v04jntz2fTzP"
   ],
   "name": "Prima lezione.ipynb",
   "provenance": [],
   "version": "0.3.2"
  },
  "kernelspec": {
   "display_name": "Python 3",
   "language": "python",
   "name": "python3"
  },
  "language_info": {
   "codemirror_mode": {
    "name": "ipython",
    "version": 3
   },
   "file_extension": ".py",
   "mimetype": "text/x-python",
   "name": "python",
   "nbconvert_exporter": "python",
   "pygments_lexer": "ipython3",
   "version": "3.7.4"
  }
 },
 "nbformat": 4,
 "nbformat_minor": 1
}
