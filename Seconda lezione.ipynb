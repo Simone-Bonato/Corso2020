{
 "cells": [
  {
   "cell_type": "markdown",
   "metadata": {
    "colab_type": "text",
    "id": "KiUoY7IM-y9d"
   },
   "source": [
    "## Booleani"
   ]
  },
  {
   "cell_type": "markdown",
   "metadata": {
    "colab_type": "text",
    "id": "tHAsDKm--y9o"
   },
   "source": [
    "I _booleani_ sono costituiti da due elementi, **True** e **False**. Ci sono varie operazioni interne ai booleani ma molte di più sono le operazioni che restituiscono un valore booleano.  "
   ]
  },
  {
   "cell_type": "markdown",
   "metadata": {
    "colab_type": "text",
    "id": "FgOuKcx8-y9x"
   },
   "source": [
    "Operazioni dai booleani nei booleani, in ordine crescente di priorità."
   ]
  },
  {
   "cell_type": "code",
   "execution_count": 0,
   "metadata": {
    "colab": {},
    "colab_type": "code",
    "id": "30LCBtei-y94"
   },
   "outputs": [],
   "source": [
    "x = False\n",
    "y = True # False\n",
    "#x or y   #valuta il secondo argomento solo se il primo è falso\n",
    "#x and y  #valuta il primo argomento solo se il primo è vero\n",
    "#not x"
   ]
  },
  {
   "cell_type": "markdown",
   "metadata": {
    "colab_type": "text",
    "id": "GTzlGZGT-y-U"
   },
   "source": [
    "Operazioni che restituiscono un booleano:"
   ]
  },
  {
   "cell_type": "code",
   "execution_count": 0,
   "metadata": {
    "colab": {},
    "colab_type": "code",
    "id": "fVKWDOLk-y-h"
   },
   "outputs": [],
   "source": [
    "# Dai numeri ai booleani\n",
    "a = 1\n",
    "b = 1\n",
    "#a == b\n",
    "#a != b\n",
    "#a>b\n",
    "#a <= b  #a>=b"
   ]
  },
  {
   "cell_type": "code",
   "execution_count": 0,
   "metadata": {
    "colab": {},
    "colab_type": "code",
    "id": "rXk56l1J-y-3"
   },
   "outputs": [],
   "source": [
    "#3 == 3.0\n",
    "3 == 6.0/2"
   ]
  },
  {
   "cell_type": "code",
   "execution_count": 0,
   "metadata": {
    "colab": {},
    "colab_type": "code",
    "id": "GURGcW8E-y_B"
   },
   "outputs": [],
   "source": [
    "# Dalle liste ai booleani\n",
    "a = [1,2,3]\n",
    "b = [1,3,2] \n",
    "#a == b\n",
    "#a != b\n",
    "a<b #l'ordine è lessicografico"
   ]
  },
  {
   "cell_type": "code",
   "execution_count": 0,
   "metadata": {
    "colab": {},
    "colab_type": "code",
    "id": "qTLLr4Ba-y_5"
   },
   "outputs": [],
   "source": [
    "# Dalle stringhe ai booleani\n",
    "a = \"Una stringa\"\n",
    "b = \"Un'altra stringa\"\n",
    "c = \"d\"\n",
    "d = \"D\"\n",
    "#c == d\n",
    "# a != b\n",
    "c<d #l'ordine è lessicografico\n",
    "# c>=d c<= d"
   ]
  },
  {
   "cell_type": "code",
   "execution_count": 0,
   "metadata": {
    "colab": {},
    "colab_type": "code",
    "id": "-uq9SGhR-zAY"
   },
   "outputs": [],
   "source": [
    "a = [1,4,3]\n",
    "b = ['erf','cra',3] \n",
    "# b = [3, 'erf', 'cra']\n",
    "#a == b\n",
    "a<b"
   ]
  },
  {
   "cell_type": "code",
   "execution_count": 0,
   "metadata": {
    "colab": {},
    "colab_type": "code",
    "id": "R35EKyYm-zAo"
   },
   "outputs": [],
   "source": [
    "3.0 in [6.0/2,8.0/2]"
   ]
  },
  {
   "cell_type": "code",
   "execution_count": 0,
   "metadata": {
    "colab": {},
    "colab_type": "code",
    "id": "2J_GxXNn-zAz"
   },
   "outputs": [],
   "source": [
    "3.0 not in [6.0/2,8.0/2]"
   ]
  },
  {
   "cell_type": "markdown",
   "metadata": {
    "colab_type": "text",
    "id": "G8dD4pmt-zA9"
   },
   "source": [
    "##  Controllo del flusso"
   ]
  },
  {
   "cell_type": "markdown",
   "metadata": {
    "colab_type": "text",
    "id": "snVbLI3I-zA_"
   },
   "source": [
    "Introduciamo il comando __while__."
   ]
  },
  {
   "cell_type": "code",
   "execution_count": 0,
   "metadata": {
    "colab": {},
    "colab_type": "code",
    "id": "q9JKM9Qp-zBB"
   },
   "outputs": [],
   "source": [
    "#Successione di Fibonacci entro il numero n\n",
    "#la somma di due elementi definisce il successivo elemento della successione\n",
    "n = 100\n",
    "a,b = 0,1\n",
    "while b<n:\n",
    "    print(b, end=\" \")\n",
    "    a,b=b,a+b"
   ]
  },
  {
   "cell_type": "code",
   "execution_count": 0,
   "metadata": {
    "colab": {},
    "colab_type": "code",
    "id": "RhUHV-t8-zBL"
   },
   "outputs": [],
   "source": [
    "#possiamo mettere questi numeri in una lista\n",
    "n = 10\n",
    "a,b = 0,1\n",
    "listn = [a,b]\n",
    "while b<n: \n",
    "    #print(b, end=\" \")\n",
    "    a,b=b,a+b\n",
    "    listn.append(b)\n",
    "    \n",
    "print(listn)"
   ]
  },
  {
   "cell_type": "markdown",
   "metadata": {
    "colab_type": "text",
    "id": "1TuZ74PW-zBQ"
   },
   "source": [
    "__If__ statements."
   ]
  },
  {
   "cell_type": "code",
   "execution_count": 0,
   "metadata": {
    "colab": {},
    "colab_type": "code",
    "id": "i8rr0nLI-zBU"
   },
   "outputs": [],
   "source": [
    "# Costruiamo un programma che prenda in input 3 numeri restituisce il più piccolo\n",
    "print(\"Inserisci tre numeri: \",end= \"\\n\")\n",
    "a = float(input(\"a = \"))\n",
    "b = float(input(\"b = \"))\n",
    "c = float(input(\"c = \"))\n",
    "listn = []\n",
    "if a<b:\n",
    "    if b<c:\n",
    "        listn.append(a)\n",
    "    else:\n",
    "        if a<c:\n",
    "            listn.append(a)\n",
    "else:\n",
    "    if b<c:\n",
    "        listn.append(b)\n",
    "    else:\n",
    "        listn.append(c)\n",
    "listn\n",
    "            "
   ]
  },
  {
   "cell_type": "markdown",
   "metadata": {
    "colab_type": "text",
    "id": "Hj_YjbXh-zBe"
   },
   "source": [
    "Esiste anche il comando __elif__."
   ]
  },
  {
   "cell_type": "code",
   "execution_count": 0,
   "metadata": {
    "colab": {},
    "colab_type": "code",
    "id": "P6GIUglW-zBg"
   },
   "outputs": [],
   "source": [
    "x = int(input(\"Inserisci un numero intero: \"))\n",
    "if x < 0:\n",
    "    x = 0\n",
    "    print('I numeri negativi vengono cambiati in zero')\n",
    "elif x == 0:\n",
    "    print('Zero')\n",
    "elif x == 1:\n",
    "    print('Uno')\n",
    "else:\n",
    "    print('Maggiore di uno')"
   ]
  },
  {
   "cell_type": "markdown",
   "metadata": {
    "colab_type": "text",
    "id": "0Q1H_WfT-zBo"
   },
   "source": [
    "Cicli __for__."
   ]
  },
  {
   "cell_type": "code",
   "execution_count": 0,
   "metadata": {
    "colab": {},
    "colab_type": "code",
    "id": "E8ldUpmJ-zBr"
   },
   "outputs": [],
   "source": [
    "#Un ciclo classico\n",
    "for i in range(10):\n",
    "    print(i**2, end=\" \")"
   ]
  },
  {
   "cell_type": "code",
   "execution_count": 0,
   "metadata": {
    "colab": {},
    "colab_type": "code",
    "id": "_TZoWQaB-zBv"
   },
   "outputs": [],
   "source": [
    "for i in range(2,20,3):\n",
    "    print(i, end=\" \")"
   ]
  },
  {
   "cell_type": "code",
   "execution_count": 0,
   "metadata": {
    "colab": {},
    "colab_type": "code",
    "id": "ap4odGRr-zB5"
   },
   "outputs": [],
   "source": [
    "for i in range(20,0,-3):\n",
    "    print(i, end=\" \")"
   ]
  },
  {
   "cell_type": "code",
   "execution_count": 0,
   "metadata": {
    "colab": {},
    "colab_type": "code",
    "id": "EcZLGxLY-zCM"
   },
   "outputs": [],
   "source": [
    "listn = [5,6,2,1,8]\n",
    "for i in listn:\n",
    "    print(i, end=\" \")"
   ]
  },
  {
   "cell_type": "code",
   "execution_count": 0,
   "metadata": {
    "colab": {},
    "colab_type": "code",
    "id": "ZmWI_0nj-zCT"
   },
   "outputs": [],
   "source": [
    "listword = [\"ape\",\"gatto\",\"dimostrativo\"]\n",
    "for i in listword:\n",
    "    print(i)"
   ]
  },
  {
   "cell_type": "code",
   "execution_count": 0,
   "metadata": {
    "colab": {},
    "colab_type": "code",
    "id": "SjhhQN5a-zCe"
   },
   "outputs": [],
   "source": [
    "listword = [\"ape\",\"gatto\",\"dimostrativo\"]\n",
    "for i in range(len(listword)):\n",
    "    print(i,listword[i])"
   ]
  },
  {
   "cell_type": "code",
   "execution_count": 0,
   "metadata": {
    "colab": {},
    "colab_type": "code",
    "id": "YXekkUmw-zCj"
   },
   "outputs": [],
   "source": [
    "# Quanto fatto prima può essere scritto in maniera più compatta con la funzione enumerate\n",
    "for i,v in enumerate(listword):\n",
    "    print(i,v)"
   ]
  },
  {
   "cell_type": "code",
   "execution_count": 0,
   "metadata": {
    "colab": {},
    "colab_type": "code",
    "id": "o2hfweyH-zCp"
   },
   "outputs": [],
   "source": [
    "enumerate(listword)"
   ]
  },
  {
   "cell_type": "code",
   "execution_count": 0,
   "metadata": {
    "colab": {},
    "colab_type": "code",
    "id": "9wACXMwZ-zCw"
   },
   "outputs": [],
   "source": []
  }
 ],
 "metadata": {
  "colab": {
   "name": "Seconda lezione.ipynb",
   "provenance": [],
   "version": "0.3.2"
  },
  "kernelspec": {
   "display_name": "Python 3",
   "language": "python",
   "name": "python3"
  },
  "language_info": {
   "codemirror_mode": {
    "name": "ipython",
    "version": 3
   },
   "file_extension": ".py",
   "mimetype": "text/x-python",
   "name": "python",
   "nbconvert_exporter": "python",
   "pygments_lexer": "ipython3",
   "version": "3.7.4"
  }
 },
 "nbformat": 4,
 "nbformat_minor": 1
}
